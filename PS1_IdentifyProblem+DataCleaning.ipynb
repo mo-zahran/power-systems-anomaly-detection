{
  "nbformat": 4,
  "nbformat_minor": 0,
  "metadata": {
    "colab": {
      "name": "PS1_IdentifyProblem+DataCleaning.ipynb",
      "provenance": [],
      "include_colab_link": true
    },
    "kernelspec": {
      "name": "python3",
      "display_name": "Python 3"
    }
  },
  "cells": [
    {
      "cell_type": "markdown",
      "metadata": {
        "id": "view-in-github",
        "colab_type": "text"
      },
      "source": [
        "<a href=\"https://colab.research.google.com/github/mo-zahran/power-systems-anomaly-detection/blob/master/PS1_IdentifyProblem%2BDataCleaning.ipynb\" target=\"_parent\"><img src=\"https://colab.research.google.com/assets/colab-badge.svg\" alt=\"Open In Colab\"/></a>"
      ]
    },
    {
      "cell_type": "markdown",
      "metadata": {
        "id": "QvK96MYGBvXy",
        "colab_type": "text"
      },
      "source": [
        "# Anomaly detection and correction for power systems"
      ]
    },
    {
      "cell_type": "markdown",
      "metadata": {
        "id": "BVsL_c9SCnp4",
        "colab_type": "text"
      },
      "source": [
        " [Please follow the example here](https://github.com/Jean-njoroge/Breast-cancer-risk-prediction/blob/master/NB1_IdentifyProblem%2BDataClean.ipynb)"
      ]
    },
    {
      "cell_type": "markdown",
      "metadata": {
        "id": "sevY-tELB663",
        "colab_type": "text"
      },
      "source": [
        "## 1. Identify the problem\n"
      ]
    },
    {
      "cell_type": "markdown",
      "metadata": {
        "id": "G171Pp64DAQv",
        "colab_type": "text"
      },
      "source": [
        "Please write somthing here"
      ]
    },
    {
      "cell_type": "markdown",
      "metadata": {
        "id": "6M4F3sx7CF-p",
        "colab_type": "text"
      },
      "source": [
        "## 1.1 Expected outcome"
      ]
    },
    {
      "cell_type": "markdown",
      "metadata": {
        "id": "iinDZS3vCSAA",
        "colab_type": "text"
      },
      "source": [
        "Please write somthing here"
      ]
    },
    {
      "cell_type": "markdown",
      "metadata": {
        "id": "CKSlBrEICT9c",
        "colab_type": "text"
      },
      "source": [
        "## 1.2 Objective\n"
      ]
    },
    {
      "cell_type": "markdown",
      "metadata": {
        "id": "dWqPle6ICf0g",
        "colab_type": "text"
      },
      "source": [
        "Please write somthing here"
      ]
    },
    {
      "cell_type": "markdown",
      "metadata": {
        "id": "5nbgHdzmCgWb",
        "colab_type": "text"
      },
      "source": [
        "## 1.3 Identify data sources"
      ]
    },
    {
      "cell_type": "markdown",
      "metadata": {
        "id": "GMmVIBSKCi9z",
        "colab_type": "text"
      },
      "source": [
        "Please write somthing here"
      ]
    },
    {
      "cell_type": "markdown",
      "metadata": {
        "id": "9nPerfxtDnVp",
        "colab_type": "text"
      },
      "source": [
        "## 1.4 Getting Started: Load libraries and set options"
      ]
    },
    {
      "cell_type": "code",
      "metadata": {
        "id": "Ek-8J-QybcKa",
        "colab_type": "code",
        "colab": {}
      },
      "source": [
        "from google.colab import drive\n",
        "drive.mount('/content/drive')"
      ],
      "execution_count": 0,
      "outputs": []
    },
    {
      "cell_type": "code",
      "metadata": {
        "id": "1kiSL13RD2lW",
        "colab_type": "code",
        "colab": {}
      },
      "source": [
        "import pandas as pd \n",
        "import numpy as np "
      ],
      "execution_count": 0,
      "outputs": []
    },
    {
      "cell_type": "markdown",
      "metadata": {
        "id": "o4WG4oqqoDZq",
        "colab_type": "text"
      },
      "source": [
        "## 1.5 Data loading and pre-processing"
      ]
    },
    {
      "cell_type": "code",
      "metadata": {
        "id": "I21JpojSbUvl",
        "colab_type": "code",
        "colab": {}
      },
      "source": [
        "data = pd.read_csv(\"/content/drive/My Drive/data_Normal_attack_withstate.csv\",delimiter = ',') "
      ],
      "execution_count": 0,
      "outputs": []
    },
    {
      "cell_type": "code",
      "metadata": {
        "id": "wvVAAye0FGcZ",
        "colab_type": "code",
        "colab": {}
      },
      "source": [
        "data.head(100)"
      ],
      "execution_count": 0,
      "outputs": []
    },
    {
      "cell_type": "code",
      "metadata": {
        "id": "fxxIJqKPFMhb",
        "colab_type": "code",
        "colab": {}
      },
      "source": [
        "data.shape"
      ],
      "execution_count": 0,
      "outputs": []
    },
    {
      "cell_type": "code",
      "metadata": {
        "id": "26eaJyJ2bvXN",
        "colab_type": "code",
        "colab": {}
      },
      "source": [
        "data.describe()"
      ],
      "execution_count": 0,
      "outputs": []
    },
    {
      "cell_type": "code",
      "metadata": {
        "id": "zu0L158HFRq4",
        "colab_type": "code",
        "colab": {}
      },
      "source": [
        "# Review data types with \"info()\".\n",
        "data.info()"
      ],
      "execution_count": 0,
      "outputs": []
    },
    {
      "cell_type": "code",
      "metadata": {
        "id": "LO29halLFVma",
        "colab_type": "code",
        "colab": {}
      },
      "source": [
        "# Review number of columns of each data type in a DataFrame:\n",
        "data.get_dtype_counts()"
      ],
      "execution_count": 0,
      "outputs": []
    },
    {
      "cell_type": "code",
      "metadata": {
        "id": "O0rLtAeGFZnm",
        "colab_type": "code",
        "colab": {}
      },
      "source": [
        "# Check for missing variables\n",
        "data.isnull().any()"
      ],
      "execution_count": 0,
      "outputs": []
    },
    {
      "cell_type": "code",
      "metadata": {
        "id": "35oUBc09FVqj",
        "colab_type": "code",
        "colab": {}
      },
      "source": [
        "# Please add an attack column in the data with class 0,1\n",
        "data.attack.unique()"
      ],
      "execution_count": 0,
      "outputs": []
    },
    {
      "cell_type": "code",
      "metadata": {
        "id": "f-4_Fwj6F7kR",
        "colab_type": "code",
        "colab": {}
      },
      "source": [
        "#save the cleaner version of dataframe for future analyis\n",
        "data.to_csv('data/clean-data.csv')"
      ],
      "execution_count": 0,
      "outputs": []
    },
    {
      "cell_type": "markdown",
      "metadata": {
        "id": "R02fcnVEAQu-",
        "colab_type": "text"
      },
      "source": [
        "## 1.6 Data cleaning"
      ]
    },
    {
      "cell_type": "markdown",
      "metadata": {
        "id": "X08pAaG4GGhw",
        "colab_type": "text"
      },
      "source": [
        "Please add the code for data cleaning if needed "
      ]
    },
    {
      "cell_type": "code",
      "metadata": {
        "id": "369baw9YGAM0",
        "colab_type": "code",
        "colab": {}
      },
      "source": [
        ""
      ],
      "execution_count": 0,
      "outputs": []
    },
    {
      "cell_type": "code",
      "metadata": {
        "id": "fj1n5V_Wo9V0",
        "colab_type": "code",
        "colab": {}
      },
      "source": [
        ""
      ],
      "execution_count": 0,
      "outputs": []
    }
  ]
}